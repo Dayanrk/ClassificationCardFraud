{
 "cells": [
  {
   "cell_type": "code",
   "execution_count": 6,
   "metadata": {},
   "outputs": [
    {
     "name": "stdout",
     "output_type": "stream",
     "text": [
      "torch version : 2.4.0\n"
     ]
    }
   ],
   "source": [
    "import torch\n",
    "import numpy as np \n",
    "\n",
    "print(\"torch version :\", torch.__version__)"
   ]
  },
  {
   "cell_type": "markdown",
   "metadata": {},
   "source": [
    "Numpy to tensor "
   ]
  },
  {
   "cell_type": "code",
   "execution_count": 24,
   "metadata": {},
   "outputs": [],
   "source": [
    "numpy_vector = np.array([1, 2, 3, 4, 5])\n",
    "torch_vector = torch.from_numpy(numpy_vector)\n",
    "tensor_matrice = torch.tensor(\n",
    "    [\n",
    "        [\n",
    "            [1, 2],\n",
    "            [3, 4],\n",
    "            [5, 6]\n",
    "        ],\n",
    "        [   [1, 2],\n",
    "            [3, 4],\n",
    "            [5, 6]\n",
    "        ],\n",
    "        [   [1, 2],\n",
    "            [3, 4],\n",
    "            [5, 6]\n",
    "        ]\n",
    "    ]\n",
    "                              )\n",
    "scalar = torch.tensor(3.14159)"
   ]
  },
  {
   "cell_type": "code",
   "execution_count": 26,
   "metadata": {},
   "outputs": [
    {
     "name": "stdout",
     "output_type": "stream",
     "text": [
      "Matrice shape :  torch.Size([3, 3, 2])\n",
      "vector dim :  1\n"
     ]
    }
   ],
   "source": [
    "print(\"Matrice shape : \", tensor_matrice.shape)\n",
    "print( \"vector dim : \", torch_vector.dim())"
   ]
  },
  {
   "cell_type": "code",
   "execution_count": 34,
   "metadata": {},
   "outputs": [
    {
     "name": "stdout",
     "output_type": "stream",
     "text": [
      "random_tensor tensor([[0.3041, 0.4631, 0.1101],\n",
      "        [0.7034, 0.8751, 0.8905],\n",
      "        [0.4691, 0.0428, 0.8608],\n",
      "        [0.9818, 0.6508, 0.3916],\n",
      "        [0.8084, 0.5836, 0.5019]])\n",
      "zero_tensor tensor([[0., 0., 0.],\n",
      "        [0., 0., 0.],\n",
      "        [0., 0., 0.],\n",
      "        [0., 0., 0.],\n",
      "        [0., 0., 0.]])\n",
      "arrange_tensor tensor([0, 2, 4, 6, 8])\n"
     ]
    }
   ],
   "source": [
    "random_tensor = torch.rand(5, 3)\n",
    "zero_tensor = torch.zeros(5,3)\n",
    "arange_tensor = torch.arange(0, 10, 2)\n",
    "print(\"random_tensor\", random_tensor)\n",
    "print(\"zero_tensor\", zero_tensor)\n",
    "print(\"arrange_tensor\", arange_tensor)"
   ]
  },
  {
   "cell_type": "markdown",
   "metadata": {},
   "source": [
    "# Multiplication"
   ]
  },
  {
   "cell_type": "code",
   "execution_count": 46,
   "metadata": {},
   "outputs": [
    {
     "name": "stdout",
     "output_type": "stream",
     "text": [
      "tensor shape torch.Size([3, 2]) tensor shape torch.Size([2, 3])\n",
      "tensor([[34, 40],\n",
      "        [66, 80]])\n"
     ]
    }
   ],
   "source": [
    "tensor_1 = torch.tensor([ # torch.Size([2,3,2])\n",
    "    [3, 4],\n",
    "    [5, 6],\n",
    "    [7, 8]\n",
    "])\n",
    "\n",
    "tensor_2 = torch.tensor([ # torch.Size([3,3,2])\n",
    "        [1, 2,3],\n",
    "        [5, 6,3]])\n",
    "\n",
    "print(\"tensor shape\", tensor_1.shape, \"tensor shape\", tensor_2.shape)\n",
    "\n",
    "print(torch.matmul(tensor_2,tensor_1)) # torch.Size([3,3,2])"
   ]
  },
  {
   "cell_type": "markdown",
   "metadata": {},
   "source": [
    "# Tools"
   ]
  },
  {
   "cell_type": "code",
   "execution_count": 51,
   "metadata": {},
   "outputs": [
    {
     "name": "stdout",
     "output_type": "stream",
     "text": [
      "Minimum :  tensor(0)\n",
      "Maximum :  tensor(8)\n",
      "Mean :  tensor(4.)\n",
      "Sum :  tensor(20)\n"
     ]
    },
    {
     "data": {
      "text/plain": [
       "tensor([0, 2, 4, 6, 8])"
      ]
     },
     "execution_count": 51,
     "metadata": {},
     "output_type": "execute_result"
    }
   ],
   "source": [
    "print(\"Minimum : \", arange_tensor.min())\n",
    "print(\"Maximum : \",arange_tensor.max())\n",
    "print(\"Mean : \", arange_tensor.type(torch.float32).mean())\n",
    "print(\"Sum : \", arange_tensor.sum())\n",
    "arange_tensor.abs_()"
   ]
  },
  {
   "cell_type": "code",
   "execution_count": null,
   "metadata": {},
   "outputs": [],
   "source": []
  }
 ],
 "metadata": {
  "kernelspec": {
   "display_name": "cardfraud",
   "language": "python",
   "name": "python3"
  },
  "language_info": {
   "codemirror_mode": {
    "name": "ipython",
    "version": 3
   },
   "file_extension": ".py",
   "mimetype": "text/x-python",
   "name": "python",
   "nbconvert_exporter": "python",
   "pygments_lexer": "ipython3",
   "version": "3.9.13"
  }
 },
 "nbformat": 4,
 "nbformat_minor": 2
}
