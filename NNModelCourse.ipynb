{
 "cells": [
  {
   "cell_type": "code",
   "execution_count": 20,
   "metadata": {},
   "outputs": [
    {
     "name": "stdout",
     "output_type": "stream",
     "text": [
      "cpu\n"
     ]
    }
   ],
   "source": [
    "#Importing the necessary libraries\n",
    "import torch\n",
    "import torch.nn as nn\n",
    "import torch.optim as optim\n",
    "from torch.utils.data import DataLoader, Dataset, WeightedRandomSampler, TensorDataset\n",
    "import pandas as pd\n",
    "import numpy as np\n",
    "import time\n",
    "from tabulate import tabulate\n",
    "import matplotlib.pyplot as plt\n",
    "from sklearn.metrics import f1_score , precision_score, confusion_matrix\n",
    "device = torch.device('cuda' if torch.cuda.is_available() else 'cpu')\n",
    "print(device)"
   ]
  },
  {
   "cell_type": "code",
   "execution_count": 6,
   "metadata": {},
   "outputs": [
    {
     "name": "stdout",
     "output_type": "stream",
     "text": [
      "Class\n",
      "0    284315\n",
      "1       492\n",
      "Name: count, dtype: int64\n"
     ]
    }
   ],
   "source": [
    "df = pd.read_csv('creditcard.csv')\n",
    "#print count of column Class\n",
    "print(df['Class'].value_counts())\n",
    "\n",
    "X = df.drop('Class', axis=1)\n",
    "y = df['Class']\n",
    "X = X.values\n",
    "y = y.values\n",
    "\n",
    "#Splitting the data into training and testing data\n",
    "# Utiliser train_Test_split de scikit-learn\n",
    "train_size = int(0.8 * len(X))\n",
    "X_train, X_test = X[:train_size], X[train_size:]\n",
    "y_train, y_test = y[:train_size], y[train_size:]\n"
   ]
  },
  {
   "cell_type": "code",
   "execution_count": 4,
   "metadata": {},
   "outputs": [],
   "source": [
    "batch_size = 2**11\n",
    "\n",
    "class CustomDataSet(Dataset):\n",
    "    def __init__(self, data, labels):\n",
    "        self.data = data\n",
    "        self.labels = labels\n",
    "        \n",
    "    def __len__(self): \n",
    "        return len(self.data)\n",
    "    \n",
    "    def __getitem__(self, idx):\n",
    "        x = self.data[idx]\n",
    "        y = self.labels[idx]\n",
    "        return x, y      \n",
    "    \n",
    "#Converting the data into tensors\n",
    "X_train = torch.tensor(X_train, dtype=torch.float32)\n",
    "X_test = torch.tensor(X_test, dtype=torch.float32)\n",
    "y_train = torch.tensor(y_train, dtype=torch.float32)\n",
    "y_test = torch.tensor(y_test, dtype=torch.float32)\n",
    "\n",
    "X_train = CustomDataSet(X_train, y_train)\n",
    "X_test = CustomDataSet(X_test, y_test) \n",
    "\n",
    "train_loader = DataLoader(X_train, batch_size=batch_size, shuffle=True)\n",
    "test_loader = DataLoader(X_test, batch_size=batch_size)\n"
   ]
  },
  {
   "cell_type": "code",
   "execution_count": 7,
   "metadata": {},
   "outputs": [],
   "source": [
    "# Calcul des poids de classe pour gérer un dataset déséquilibré\n",
    "class_counts = np.bincount(y_train)\n",
    "class_weights = 1. / class_counts\n",
    "sample_weights = class_weights[y_train]\n",
    "sampler = WeightedRandomSampler(weights=torch.tensor(sample_weights, dtype=torch.float32), \n",
    "                                num_samples=len(sample_weights), \n",
    "                                replacement=True)\n",
    "\n",
    "# Création des datasets d'entraînement et de test avec conversion explicite en float32\n",
    "train_dataset = TensorDataset(torch.tensor(X_train, dtype=torch.float32), \n",
    "                              torch.tensor(y_train, dtype=torch.float32))\n",
    "test_dataset = TensorDataset(torch.tensor(X_test, dtype=torch.float32), \n",
    "                             torch.tensor(y_test, dtype=torch.float32))\n",
    "\n",
    "# Création des DataLoaders\n",
    "train_loader = DataLoader(train_dataset, batch_size=1000, sampler=sampler)\n",
    "test_loader = DataLoader(test_dataset, batch_size=1000)\n"
   ]
  },
  {
   "cell_type": "code",
   "execution_count": 16,
   "metadata": {},
   "outputs": [],
   "source": [
    "class MyFlexibleModel(nn.Module):\n",
    "    def __init__(self, in_features, hidden_layers, out_features, dropout_rate=0.5):\n",
    "        super(MyFlexibleModel, self).__init__()\n",
    "        \n",
    "        # Create a list to store the layers\n",
    "        self.layers = nn.ModuleList()\n",
    "        self.layers.append(nn.Linear(in_features, hidden_layers[0]))\n",
    "        \n",
    "        # Add the hidden layers\n",
    "        for i in range(1, hidden_layers):\n",
    "            self.layers.append(nn.Linear(hidden_layers, hidden_layers))\n",
    "            self.layers.append(nn.BatchNorm1d(hidden_layers))\n",
    "            self.layers.append(nn.ReLU())  \n",
    "        \n",
    "        # Ajouter la couche de sortie\n",
    "        self.layers.append(nn.Linear(hidden_layers, out_features))\n",
    "        self.layers.append(nn.Sigmoid())  \n",
    "        self.dropout = nn.Dropout(dropout_rate)\n",
    "\n",
    "    def forward(self, x):\n",
    "        for i in range(len(self.layers) - 1):\n",
    "            x = self.layers[i](x)\n",
    "            x = self.dropout(x)\n",
    "            x = self.relu(x)\n",
    "        \n",
    "        x = self.layers[-1](x)\n",
    "        x = self.sigmoid(x)\n",
    "        return x\n",
    "\n",
    "\n"
   ]
  },
  {
   "cell_type": "code",
   "execution_count": 10,
   "metadata": {},
   "outputs": [],
   "source": [
    "def confusion_matrix_function(classes, confusion_matrix):\n",
    "    print(\"Confusion Matrix\")\n",
    "    # Créer les en-têtes de la table avec les classes prédites\n",
    "    headers = [\"\"] + [f\"Predicted: {cls}\" for cls in classes.index]\n",
    "\n",
    "    # Créer les lignes de la table avec les valeurs de la matrice de confusion\n",
    "    rows = [\n",
    "        [f\"Class: {classes.index[i]} - {classes[i]}\"] + list(confusion_matrix[i])\n",
    "        for i in range(len(classes))\n",
    "    ]\n",
    "\n",
    "    # Afficher la table\n",
    "    print(tabulate(rows, headers=headers, tablefmt=\"grid\"))"
   ]
  },
  {
   "cell_type": "code",
   "execution_count": 21,
   "metadata": {},
   "outputs": [
    {
     "name": "stdout",
     "output_type": "stream",
     "text": [
      "====================================================================================================\n",
      "Epoch: 1 - Loss Train : 4.966388 - Loss Val : 0.5058 - Acc Train : 0.6132 - Acc Val : 0.9783\n",
      "F1 Score Train: 0.5584 - F1 Score Val: 0.0064\n",
      "====================================================================================================\n",
      "Epoch: 2 - Loss Train : 0.600296 - Loss Val : 0.3008 - Acc Train : 0.7909 - Acc Val : 0.9940\n",
      "F1 Score Train: 0.7537 - F1 Score Val: 0.0117\n",
      "====================================================================================================\n",
      "Epoch: 3 - Loss Train : 0.549227 - Loss Val : 0.3973 - Acc Train : 0.8260 - Acc Val : 0.9908\n",
      "F1 Score Train: 0.8002 - F1 Score Val: 0.0404\n",
      "====================================================================================================\n",
      "Epoch: 4 - Loss Train : 0.511591 - Loss Val : 0.3313 - Acc Train : 0.8431 - Acc Val : 0.9946\n",
      "F1 Score Train: 0.8207 - F1 Score Val: 0.0606\n",
      "====================================================================================================\n",
      "Epoch: 5 - Loss Train : 0.484393 - Loss Val : 0.1653 - Acc Train : 0.8516 - Acc Val : 0.9979\n",
      "F1 Score Train: 0.8314 - F1 Score Val: 0.0000\n",
      "====================================================================================================\n",
      "Epoch: 6 - Loss Train : 0.461646 - Loss Val : 0.2272 - Acc Train : 0.8588 - Acc Val : 0.9973\n",
      "F1 Score Train: 0.8408 - F1 Score Val: 0.0936\n",
      "====================================================================================================\n",
      "Epoch: 7 - Loss Train : 0.441346 - Loss Val : 0.2150 - Acc Train : 0.8648 - Acc Val : 0.9975\n",
      "F1 Score Train: 0.8467 - F1 Score Val: 0.2111\n",
      "====================================================================================================\n",
      "Epoch: 8 - Loss Train : 0.426770 - Loss Val : 0.1496 - Acc Train : 0.8709 - Acc Val : 0.9978\n",
      "F1 Score Train: 0.8548 - F1 Score Val: 0.0857\n",
      "====================================================================================================\n",
      "Epoch: 9 - Loss Train : 0.413858 - Loss Val : 0.1973 - Acc Train : 0.8730 - Acc Val : 0.9982\n",
      "F1 Score Train: 0.8577 - F1 Score Val: 0.3636\n",
      "====================================================================================================\n",
      "Epoch: 10 - Loss Train : 0.397934 - Loss Val : 0.2464 - Acc Train : 0.8843 - Acc Val : 0.9976\n",
      "F1 Score Train: 0.8706 - F1 Score Val: 0.3628\n",
      "Training time: 18.624123096466064s\n"
     ]
    },
    {
     "data": {
      "image/png": "[encoded data removed]",
      "text/plain": [
       "<Figure size 640x480 with 1 Axes>"
      ]
     },
     "metadata": {},
     "output_type": "display_data"
    }
   ],
   "source": [
    "model = MyModel(X.shape[1], 10, 10, 1)\n",
    "criterion = nn.BCELoss()\n",
    "optimizer = torch.optim.Adam(model.parameters(), lr=0.0001)\n",
    "\n",
    "epochs = 10  # Number of epochs\n",
    "train_loss = []\n",
    "test_loss = []\n",
    "\n",
    "start_time = time.time()\n",
    "\n",
    "for epoch in range(epochs):\n",
    "    model.train()\n",
    "    losses_train = 0\n",
    "    correct_predictions, total_predictions = 0, 0 \n",
    "    \n",
    "    y_pred_train = []\n",
    "    y_true_train = []\n",
    "    for inputs, labels in train_loader:\n",
    "        \n",
    "        optimizer.zero_grad()  # Reset gradients to zero\n",
    "        outputs_train = model(inputs)  # Pass data through the model\n",
    "        loss = criterion(outputs_train.squeeze(), labels)  # Calculate loss\n",
    "        loss.backward()  # Backpropagation\n",
    "        optimizer.step()  # Update weights\n",
    "\n",
    "        # Cumulate loss from each bach\n",
    "        losses_train += loss.item()\n",
    "        \n",
    "        # Calculate the accuracy\n",
    "          #Apply sigmoid to the outputs cause outputs are logits\n",
    "        predictions = (outputs_train.squeeze()  >= 0.5).float()  # convert probabilities to binary predictions\n",
    "        correct_predictions += (predictions == labels).sum().item()\n",
    "        total_predictions += labels.size(0) \n",
    "        \n",
    "        # Append the predictions to the list\n",
    "        y_pred_train.extend(predictions.cpu().numpy())\n",
    "        y_true_train.extend(labels.cpu().numpy())\n",
    "    \n",
    "    losses = losses_train / len(train_loader)\n",
    "    train_loss.append(losses)\n",
    "    \n",
    "    train_acc = correct_predictions / total_predictions\n",
    "    #Evaluation Mode\n",
    "    model.eval() \n",
    "    \n",
    "    y_pred_test, y_true_test = [], []\n",
    "    \n",
    "    with torch.no_grad():\n",
    "        #loss and accuracy for the validation set\n",
    "        losses_test = 0\n",
    "        test_acc = 0\n",
    "        \n",
    "        correct_predictions_label = 0\n",
    "        total_predictions = 0\n",
    "        \n",
    "        for inputs_test, labels_test in test_loader:\n",
    "            outputs_labels = model(inputs_test)\n",
    "            loss = criterion(outputs_labels.squeeze(), labels_test)\n",
    "            losses_test += loss.item()\n",
    "            \n",
    "            prediction_test = (outputs_labels.squeeze() >= 0.5).float()\n",
    "            correct_predictions_label += (prediction_test == labels_test).sum().item()\n",
    "            total_predictions += labels_test.size(0)\n",
    "            \n",
    "            y_pred_test.extend(prediction_test.cpu().numpy())\n",
    "            y_true_test.extend(labels_test.cpu().numpy())\n",
    "        test_acc = correct_predictions_label / total_predictions\n",
    "        \n",
    "        losses_test = losses_test / len(test_loader)\n",
    "        test_loss.append(losses_test)\n",
    "\n",
    "    print('='*100)   \n",
    "    print(f'Epoch: {epoch+1} - Loss Train : {losses:4f} - Loss Val : {losses_test:.4f} - Acc Train : {train_acc:.4f} - Acc Val : {test_acc:.4f}')\n",
    "    # confusion_matrix_function(df['Class'].value_counts(), confusion_matrix(y_true_test, y_pred_test))\n",
    "    #print f1 score val & train\n",
    "    print(f'F1 Score Train: {f1_score(y_true_train, y_pred_train):.4f} - F1 Score Val: {f1_score(y_true_test, y_pred_test):.4f}')\n",
    "        \n",
    "    #UndefinedMetricWarning: Precision is ill-defined and being set to 0.0 due to no predicted samples. Use `zero_division` parameter to control this behavior. _warn_prf(average, modifier, f\"{metric.capitalize()} is\", len(result))\n",
    "    #This warning is due to the fact that the model is not predicting any positive (1) class in the test set.\n",
    "\n",
    "end_time = time.time() \n",
    "\n",
    "print(f\"Training time: {end_time - start_time}s\")\n",
    "fig, ax = plt.subplots()\n",
    "ax.plot(train_loss, label='Train', c='blue')\n",
    "ax.plot(test_loss, label='Test', c='red')\n",
    "ax.set_xlabel('Epochs')\n",
    "ax.set_ylabel('Loss')\n",
    "ax.legend()\n",
    "\n",
    "plt.show()"
   ]
  },
  {
   "cell_type": "code",
   "execution_count": 18,
   "metadata": {},
   "outputs": [
    {
     "data": {
      "image/png": "[encoded data removed]",
      "text/plain": [
       "<Figure size 640x480 with 1 Axes>"
      ]
     },
     "metadata": {},
     "output_type": "display_data"
    }
   ],
   "source": [
    "\n",
    "fig, ax = plt.subplots()\n",
    "ax.plot(train_loss, label='Train', c='blue')\n",
    "ax.plot(test_loss, label='Test', c='red')\n",
    "ax.set_xlabel('Epochs')\n",
    "ax.set_ylabel('Loss')\n",
    "ax.legend()\n",
    "\n",
    "plt.show()"
   ]
  },
  {
   "cell_type": "code",
   "execution_count": null,
   "metadata": {},
   "outputs": [],
   "source": []
  }
 ],
 "metadata": {
  "kernelspec": {
   "display_name": "cardfraud",
   "language": "python",
   "name": "python3"
  },
  "language_info": {
   "codemirror_mode": {
    "name": "ipython",
    "version": 3
   },
   "file_extension": ".py",
   "mimetype": "text/x-python",
   "name": "python",
   "nbconvert_exporter": "python",
   "pygments_lexer": "ipython3",
   "version": "3.9.13"
  }
 },
 "nbformat": 4,
 "nbformat_minor": 2
}
